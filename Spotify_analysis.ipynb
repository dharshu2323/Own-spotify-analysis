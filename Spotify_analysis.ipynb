{
 "cells": [
  {
   "cell_type": "code",
   "execution_count": 1,
   "id": "cb7ebda1",
   "metadata": {},
   "outputs": [],
   "source": [
    "import pandas as pd\n",
    "import json\n",
    "import matplotlib.pyplot as plt\n",
    "import numpy as np\n",
    "import seaborn as sns"
   ]
  },
  {
   "cell_type": "code",
   "execution_count": 2,
   "id": "06964fff",
   "metadata": {},
   "outputs": [
    {
     "name": "stdout",
     "output_type": "stream",
     "text": [
      "               endTime           artistName        trackName  msPlayed\n",
      "0     2022-10-04 11:11         Taylor Swift         Gorgeous      5510\n",
      "1     2022-10-05 02:47         Armaan Malik        Konjam -1         0\n",
      "2     2022-10-05 02:51         Armaan Malik        Konjam -1    173686\n",
      "3     2022-10-05 02:55         Armaan Malik       Konjam - 2    219194\n",
      "4     2022-10-05 02:59         Taylor Swift           willow    214706\n",
      "...                ...                  ...              ...       ...\n",
      "7724  2023-10-03 10:35     Sreerama Chandra        Pougalaam    284306\n",
      "7725  2023-10-03 10:39                  BTS          Friends    199338\n",
      "7726  2023-10-03 10:44  Anirudh Ravichander   Kannaana Kanne    267340\n",
      "7727  2023-10-03 10:49          S.P. Charan  Kadavul Thandha    318026\n",
      "7728  2023-10-03 10:55          A.R. Rahman  Newyork Nagaram    279964\n",
      "\n",
      "[7729 rows x 4 columns]\n"
     ]
    }
   ],
   "source": [
    "data=pd.read_json(\"MyData\\StreamingHistory0.json\")\n",
    "dataframe=pd.DataFrame(data)\n",
    "print(dataframe)"
   ]
  },
  {
   "cell_type": "code",
   "execution_count": 3,
   "id": "d1ebdea4",
   "metadata": {},
   "outputs": [
    {
     "name": "stdout",
     "output_type": "stream",
     "text": [
      "<class 'pandas.core.frame.DataFrame'>\n",
      "RangeIndex: 7729 entries, 0 to 7728\n",
      "Data columns (total 4 columns):\n",
      " #   Column      Non-Null Count  Dtype \n",
      "---  ------      --------------  ----- \n",
      " 0   endTime     7729 non-null   object\n",
      " 1   artistName  7729 non-null   object\n",
      " 2   trackName   7729 non-null   object\n",
      " 3   msPlayed    7729 non-null   int64 \n",
      "dtypes: int64(1), object(3)\n",
      "memory usage: 241.7+ KB\n"
     ]
    },
    {
     "data": {
      "text/html": [
       "<div>\n",
       "<style scoped>\n",
       "    .dataframe tbody tr th:only-of-type {\n",
       "        vertical-align: middle;\n",
       "    }\n",
       "\n",
       "    .dataframe tbody tr th {\n",
       "        vertical-align: top;\n",
       "    }\n",
       "\n",
       "    .dataframe thead th {\n",
       "        text-align: right;\n",
       "    }\n",
       "</style>\n",
       "<table border=\"1\" class=\"dataframe\">\n",
       "  <thead>\n",
       "    <tr style=\"text-align: right;\">\n",
       "      <th></th>\n",
       "      <th>endTime</th>\n",
       "      <th>artistName</th>\n",
       "      <th>trackName</th>\n",
       "      <th>msPlayed</th>\n",
       "    </tr>\n",
       "  </thead>\n",
       "  <tbody>\n",
       "    <tr>\n",
       "      <th>0</th>\n",
       "      <td>2022-10-04 11:11</td>\n",
       "      <td>Taylor Swift</td>\n",
       "      <td>Gorgeous</td>\n",
       "      <td>5510</td>\n",
       "    </tr>\n",
       "    <tr>\n",
       "      <th>1</th>\n",
       "      <td>2022-10-05 02:47</td>\n",
       "      <td>Armaan Malik</td>\n",
       "      <td>Konjam -1</td>\n",
       "      <td>0</td>\n",
       "    </tr>\n",
       "    <tr>\n",
       "      <th>2</th>\n",
       "      <td>2022-10-05 02:51</td>\n",
       "      <td>Armaan Malik</td>\n",
       "      <td>Konjam -1</td>\n",
       "      <td>173686</td>\n",
       "    </tr>\n",
       "    <tr>\n",
       "      <th>3</th>\n",
       "      <td>2022-10-05 02:55</td>\n",
       "      <td>Armaan Malik</td>\n",
       "      <td>Konjam - 2</td>\n",
       "      <td>219194</td>\n",
       "    </tr>\n",
       "    <tr>\n",
       "      <th>4</th>\n",
       "      <td>2022-10-05 02:59</td>\n",
       "      <td>Taylor Swift</td>\n",
       "      <td>willow</td>\n",
       "      <td>214706</td>\n",
       "    </tr>\n",
       "  </tbody>\n",
       "</table>\n",
       "</div>"
      ],
      "text/plain": [
       "            endTime    artistName   trackName  msPlayed\n",
       "0  2022-10-04 11:11  Taylor Swift    Gorgeous      5510\n",
       "1  2022-10-05 02:47  Armaan Malik   Konjam -1         0\n",
       "2  2022-10-05 02:51  Armaan Malik   Konjam -1    173686\n",
       "3  2022-10-05 02:55  Armaan Malik  Konjam - 2    219194\n",
       "4  2022-10-05 02:59  Taylor Swift      willow    214706"
      ]
     },
     "execution_count": 3,
     "metadata": {},
     "output_type": "execute_result"
    }
   ],
   "source": [
    "dataframe.info()\n",
    "dataframe.head()"
   ]
  },
  {
   "cell_type": "code",
   "execution_count": 4,
   "id": "04c4e0a8",
   "metadata": {},
   "outputs": [
    {
     "data": {
      "text/html": [
       "<div>\n",
       "<style scoped>\n",
       "    .dataframe tbody tr th:only-of-type {\n",
       "        vertical-align: middle;\n",
       "    }\n",
       "\n",
       "    .dataframe tbody tr th {\n",
       "        vertical-align: top;\n",
       "    }\n",
       "\n",
       "    .dataframe thead th {\n",
       "        text-align: right;\n",
       "    }\n",
       "</style>\n",
       "<table border=\"1\" class=\"dataframe\">\n",
       "  <thead>\n",
       "    <tr style=\"text-align: right;\">\n",
       "      <th></th>\n",
       "      <th>msPlayed</th>\n",
       "    </tr>\n",
       "  </thead>\n",
       "  <tbody>\n",
       "    <tr>\n",
       "      <th>count</th>\n",
       "      <td>7.729000e+03</td>\n",
       "    </tr>\n",
       "    <tr>\n",
       "      <th>mean</th>\n",
       "      <td>1.702862e+05</td>\n",
       "    </tr>\n",
       "    <tr>\n",
       "      <th>std</th>\n",
       "      <td>1.137562e+05</td>\n",
       "    </tr>\n",
       "    <tr>\n",
       "      <th>min</th>\n",
       "      <td>0.000000e+00</td>\n",
       "    </tr>\n",
       "    <tr>\n",
       "      <th>25%</th>\n",
       "      <td>4.181900e+04</td>\n",
       "    </tr>\n",
       "    <tr>\n",
       "      <th>50%</th>\n",
       "      <td>1.985170e+05</td>\n",
       "    </tr>\n",
       "    <tr>\n",
       "      <th>75%</th>\n",
       "      <td>2.477940e+05</td>\n",
       "    </tr>\n",
       "    <tr>\n",
       "      <th>max</th>\n",
       "      <td>1.796988e+06</td>\n",
       "    </tr>\n",
       "  </tbody>\n",
       "</table>\n",
       "</div>"
      ],
      "text/plain": [
       "           msPlayed\n",
       "count  7.729000e+03\n",
       "mean   1.702862e+05\n",
       "std    1.137562e+05\n",
       "min    0.000000e+00\n",
       "25%    4.181900e+04\n",
       "50%    1.985170e+05\n",
       "75%    2.477940e+05\n",
       "max    1.796988e+06"
      ]
     },
     "execution_count": 4,
     "metadata": {},
     "output_type": "execute_result"
    }
   ],
   "source": [
    "dataframe.describe()"
   ]
  },
  {
   "cell_type": "code",
   "execution_count": 8,
   "id": "6a8fed02",
   "metadata": {},
   "outputs": [
    {
     "data": {
      "text/plain": [
       "Index(['endTime', 'artistName', 'trackName', 'msPlayed'], dtype='object')"
      ]
     },
     "execution_count": 8,
     "metadata": {},
     "output_type": "execute_result"
    }
   ],
   "source": [
    "dataframe.columns"
   ]
  },
  {
   "cell_type": "code",
   "execution_count": 15,
   "id": "b7ff9426",
   "metadata": {},
   "outputs": [
    {
     "data": {
      "text/html": [
       "<div>\n",
       "<style scoped>\n",
       "    .dataframe tbody tr th:only-of-type {\n",
       "        vertical-align: middle;\n",
       "    }\n",
       "\n",
       "    .dataframe tbody tr th {\n",
       "        vertical-align: top;\n",
       "    }\n",
       "\n",
       "    .dataframe thead th {\n",
       "        text-align: right;\n",
       "    }\n",
       "</style>\n",
       "<table border=\"1\" class=\"dataframe\">\n",
       "  <thead>\n",
       "    <tr style=\"text-align: right;\">\n",
       "      <th></th>\n",
       "      <th>endTime</th>\n",
       "      <th>artistName</th>\n",
       "      <th>trackName</th>\n",
       "    </tr>\n",
       "  </thead>\n",
       "  <tbody>\n",
       "    <tr>\n",
       "      <th>count</th>\n",
       "      <td>7729</td>\n",
       "      <td>7729</td>\n",
       "      <td>7729</td>\n",
       "    </tr>\n",
       "    <tr>\n",
       "      <th>unique</th>\n",
       "      <td>6433</td>\n",
       "      <td>247</td>\n",
       "      <td>663</td>\n",
       "    </tr>\n",
       "    <tr>\n",
       "      <th>top</th>\n",
       "      <td>2023-09-20 10:41</td>\n",
       "      <td>Anirudh Ravichander</td>\n",
       "      <td>Konjam -1</td>\n",
       "    </tr>\n",
       "    <tr>\n",
       "      <th>freq</th>\n",
       "      <td>16</td>\n",
       "      <td>1078</td>\n",
       "      <td>329</td>\n",
       "    </tr>\n",
       "  </tbody>\n",
       "</table>\n",
       "</div>"
      ],
      "text/plain": [
       "                 endTime           artistName  trackName\n",
       "count               7729                 7729       7729\n",
       "unique              6433                  247        663\n",
       "top     2023-09-20 10:41  Anirudh Ravichander  Konjam -1\n",
       "freq                  16                 1078        329"
      ]
     },
     "execution_count": 15,
     "metadata": {},
     "output_type": "execute_result"
    }
   ],
   "source": [
    "dataframe[['endTime','artistName','trackName']].describe()"
   ]
  },
  {
   "cell_type": "code",
   "execution_count": 85,
   "id": "bd59df85",
   "metadata": {},
   "outputs": [],
   "source": [
    "song_play_counts = dataframe.groupby('trackName')['msPlayed'].sum().reset_index()\n",
    "least=song_play_counts.sort_values(by='msPlayed').iloc[0]\n",
    "least_song=least['trackName']"
   ]
  },
  {
   "cell_type": "code",
   "execution_count": 37,
   "id": "a5cde8b3",
   "metadata": {},
   "outputs": [],
   "source": [
    "dataframe['endTime']=pd.to_datetime(dataframe['endTime'])"
   ]
  },
  {
   "cell_type": "code",
   "execution_count": 39,
   "id": "ad0375a4",
   "metadata": {},
   "outputs": [],
   "source": [
    "dataframe['duration']=dataframe['msPlayed']/60000"
   ]
  },
  {
   "cell_type": "code",
   "execution_count": 86,
   "id": "f97e4979",
   "metadata": {},
   "outputs": [],
   "source": [
    "top=song_play_counts.sort_values(by='msPlayed',ascending=False).iloc[0]\n",
    "top_song=top['trackName']"
   ]
  },
  {
   "cell_type": "markdown",
   "id": "311ea2d7",
   "metadata": {},
   "source": [
    "# Exploratory Data Analysis"
   ]
  },
  {
   "cell_type": "code",
   "execution_count": 75,
   "id": "09f6968b",
   "metadata": {},
   "outputs": [
    {
     "data": {
      "text/plain": [
       "<Axes: ylabel='trackName'>"
      ]
     },
     "execution_count": 75,
     "metadata": {},
     "output_type": "execute_result"
    },
    {
     "data": {
      "image/png": "[encoded data removed]",
      "text/plain": [
       "<Figure size 1200x700 with 1 Axes>"
      ]
     },
     "metadata": {},
     "output_type": "display_data"
    }
   ],
   "source": [
    "fig1, ax1 = plt.subplots(figsize=(12,7))\n",
    "dataframe.groupby('trackName')['msPlayed'].sum().nlargest(10).sort_values(ascending=False).plot(kind='barh')"
   ]
  },
  {
   "cell_type": "code",
   "execution_count": 88,
   "id": "73e529a4",
   "metadata": {},
   "outputs": [
    {
     "name": "stdout",
     "output_type": "stream",
     "text": [
      "Summary Report for my own Spotify data analysis\n",
      "Least played song: Yennuyire - Male Vocals \n",
      "Most played song: Konjam -1\n"
     ]
    }
   ],
   "source": [
    "print(\"Summary Report for my own Spotify data analysis\")\n",
    "print(\"Least played song: {} \\nMost played song: {}\".format(least_song,top_song))"
   ]
  },
  {
   "cell_type": "code",
   "execution_count": null,
   "id": "785eb62d",
   "metadata": {},
   "outputs": [],
   "source": []
  }
 ],
 "metadata": {
  "kernelspec": {
   "display_name": "Python 3 (ipykernel)",
   "language": "python",
   "name": "python3"
  },
  "language_info": {
   "codemirror_mode": {
    "name": "ipython",
    "version": 3
   },
   "file_extension": ".py",
   "mimetype": "text/x-python",
   "name": "python",
   "nbconvert_exporter": "python",
   "pygments_lexer": "ipython3",
   "version": "3.11.4"
  }
 },
 "nbformat": 4,
 "nbformat_minor": 5
}
